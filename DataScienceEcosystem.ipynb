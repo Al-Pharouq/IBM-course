{
 "cells": [
  {
   "cell_type": "markdown",
   "id": "94fe6bee",
   "metadata": {},
   "source": [
    "# Data Science Tools and Ecosystem"
   ]
  },
  {
   "cell_type": "markdown",
   "id": "65398e90",
   "metadata": {},
   "source": [
    "In this notebook, Data Science Tools and Ecosystem are summarized."
   ]
  },
  {
   "cell_type": "markdown",
   "id": "37f185f5",
   "metadata": {},
   "source": [
    "**Objectives:**\n",
    "* popular languages that Data Scientists use\n",
    "* commonly used libraries used by Data Scientists\n",
    "* few examples of evaluating arithmetic expressions in Python\n",
    "* simple arithmetic expression to mutiply then add integers"
   ]
  },
  {
   "cell_type": "markdown",
   "id": "edf30b20",
   "metadata": {},
   "source": [
    "Some of the popular languages that Data Scientists use are:\n",
    "1. python\n",
    "2. Java\n",
    "3. R"
   ]
  },
  {
   "cell_type": "markdown",
   "id": "82193c24",
   "metadata": {},
   "source": [
    "|Data Science Tools|\n",
    "|-----------------:|\n",
    "|Oracle Database   |\n",
    "|IBM Db2|\n",
    "|SPSS Modeler|\n"
   ]
  },
  {
   "cell_type": "markdown",
   "id": "242e94a4",
   "metadata": {},
   "source": [
    "Some of the commonly used libraries used by Data Scientists include:\n",
    "1. TesorFlow\n",
    "2. ggplot\n",
    "3. Caret"
   ]
  },
  {
   "cell_type": "markdown",
   "id": "23a4b1e8",
   "metadata": {},
   "source": [
    "### Below are a few examples of evaluating arithmetic expressions in Python\n",
    "| Arithmetic Expressions |      Meaning    |\n",
    "|-----------------------:|:----------------|\n",
    "|       *                  | Maltiplication  |\n",
    "|       /                  | Division        |\n",
    "|       +                  | Adition         |\n",
    "|       -                  | Subcription     |\n",
    " "
   ]
  },
  {
   "cell_type": "code",
   "execution_count": 40,
   "id": "560f9c80",
   "metadata": {
    "scrolled": true
   },
   "outputs": [
    {
     "name": "stdout",
     "output_type": "stream",
     "text": [
      "17\n"
     ]
    }
   ],
   "source": [
    "#This a simple arithmetic expression to mutiply then add integers\n",
    "print((3*4)+5)"
   ]
  },
  {
   "cell_type": "code",
   "execution_count": 41,
   "id": "a2f66e38",
   "metadata": {},
   "outputs": [
    {
     "name": "stdout",
     "output_type": "stream",
     "text": [
      "3.3333333333333335 hours\n"
     ]
    }
   ],
   "source": [
    "#This will convert 200 minutes to hours by diving by 60\n",
    "print(str(200/60)+\" hours\")"
   ]
  },
  {
   "cell_type": "markdown",
   "id": "65319a24",
   "metadata": {},
   "source": [
    "## Author\n",
    "Salman Ahmed Ebrahim Hassan"
   ]
  }
 ],
 "metadata": {
  "kernelspec": {
   "display_name": "Python 3 (ipykernel)",
   "language": "python",
   "name": "python3"
  },
  "language_info": {
   "codemirror_mode": {
    "name": "ipython",
    "version": 3
   },
   "file_extension": ".py",
   "mimetype": "text/x-python",
   "name": "python",
   "nbconvert_exporter": "python",
   "pygments_lexer": "ipython3",
   "version": "3.9.12"
  }
 },
 "nbformat": 4,
 "nbformat_minor": 5
}
